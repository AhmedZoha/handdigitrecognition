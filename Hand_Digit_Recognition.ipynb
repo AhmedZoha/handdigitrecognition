{
  "nbformat": 4,
  "nbformat_minor": 0,
  "metadata": {
    "colab": {
      "provenance": []
    },
    "kernelspec": {
      "name": "python3",
      "display_name": "Python 3"
    },
    "language_info": {
      "name": "python"
    }
  },
  "cells": [
    {
      "cell_type": "markdown",
      "source": [
        "**1. Introduction**\n",
        "This case study is an introduction to Convolutional Neural Networks using TensorFlow 2.x Keras API. The dataset that we will work it is the MNIST dataset, a dataset of handwritten digits 0-9, and we will use a Sequential CNN to predict which digit was drawn.\n",
        "\n",
        "This model reaches 99.3% accuracy.\n",
        "\n",
        "To prepare our notebook, run the next cell to import the necessary packages and change the accelerator from None to GPU."
      ],
      "metadata": {
        "id": "refXflpFp9Bv"
      }
    },
    {
      "cell_type": "code",
      "execution_count": 1,
      "metadata": {
        "colab": {
          "base_uri": "https://localhost:8080/"
        },
        "id": "XrWKf7pkp5uM",
        "outputId": "4fd54202-0494-4173-8f7f-8733aeddde79"
      },
      "outputs": [
        {
          "output_type": "stream",
          "name": "stdout",
          "text": [
            "2.9.2\n"
          ]
        }
      ],
      "source": [
        "import tensorflow as tf\n",
        "import seaborn as sns\n",
        "import numpy as np\n",
        "import pandas as pd\n",
        "import matplotlib.pyplot as plt\n",
        "import matplotlib.image as mpimg\n",
        "\n",
        "print(tf.__version__)"
      ]
    },
    {
      "cell_type": "markdown",
      "source": [
        "**2. Data-Preprocessing**\n",
        "\n",
        "Before building any ML model, it is important to preprocess the data. In fact, data preprocessing will generally take up the most time in any ML pipeline. The following module goes over the steps to preprocess the MNIST dataset for our purposes.\n",
        "\n",
        "**2.1: Load Data**\n",
        "\n",
        "Our first step is to load the data and divide it into a training and testing dataset. The MNIST dataset can be downloaded directly from TensorFlow and has already been divided. Run the next cell to import the data.\n",
        "\n",
        "x_train is the dataset of 28x28 images of handwritten digits that the model will be trained on.\n",
        "\n",
        "y_train is the dataset of labels that correspond to x_train.\n",
        "\n",
        "x_test is the dataset of 28x28 images of handwritten digits that the model will be tested on.\n",
        "\n",
        "y_test is the dataset of labels that correspond to x_test."
      ],
      "metadata": {
        "id": "ogRWyK5zrfNf"
      }
    },
    {
      "cell_type": "code",
      "source": [
        "mnist = tf.keras.datasets.mnist\n",
        "(x_train, y_train), (x_test, y_test) = mnist.load_data()"
      ],
      "metadata": {
        "colab": {
          "base_uri": "https://localhost:8080/"
        },
        "id": "GkwyOTutqNkB",
        "outputId": "387b123a-93de-4dac-827b-21cf959bfc8c"
      },
      "execution_count": 2,
      "outputs": [
        {
          "output_type": "stream",
          "name": "stdout",
          "text": [
            "Downloading data from https://storage.googleapis.com/tensorflow/tf-keras-datasets/mnist.npz\n",
            "11490434/11490434 [==============================] - 0s 0us/step\n"
          ]
        }
      ]
    },
    {
      "cell_type": "markdown",
      "source": [
        "Run the following code to see the counts of each digit present in our training dataset."
      ],
      "metadata": {
        "id": "oHt2Zn4SvGh3"
      }
    },
    {
      "cell_type": "code",
      "source": [
        "sns.countplot(y_train)"
      ],
      "metadata": {
        "colab": {
          "base_uri": "https://localhost:8080/",
          "height": 339
        },
        "id": "dXEtSqsjr8RG",
        "outputId": "1772448e-035b-44be-89d2-9a4131e7bb37"
      },
      "execution_count": 3,
      "outputs": [
        {
          "output_type": "stream",
          "name": "stderr",
          "text": [
            "/usr/local/lib/python3.7/dist-packages/seaborn/_decorators.py:43: FutureWarning: Pass the following variable as a keyword arg: x. From version 0.12, the only valid positional argument will be `data`, and passing other arguments without an explicit keyword will result in an error or misinterpretation.\n",
            "  FutureWarning\n"
          ]
        },
        {
          "output_type": "execute_result",
          "data": {
            "text/plain": [
              "<matplotlib.axes._subplots.AxesSubplot at 0x7fcbc7e88cd0>"
            ]
          },
          "metadata": {},
          "execution_count": 3
        },
        {
          "output_type": "display_data",
          "data": {
            "text/plain": [
              "<Figure size 432x288 with 1 Axes>"
            ],
            "image/png": "[encoded data removed]"
          },
          "metadata": {
            "needs_background": "light"
          }
        }
      ]
    },
    {
      "cell_type": "markdown",
      "source": [
        "There are similar counts for each digit. This is good as the model will have enough images for each class to train the features for each class. There is no need to downsample or upweigh"
      ],
      "metadata": {
        "id": "rFehocW7vQAF"
      }
    },
    {
      "cell_type": "markdown",
      "source": [
        "**2.2 Check for NaN Values**"
      ],
      "metadata": {
        "id": "SntLeGXavSam"
      }
    },
    {
      "cell_type": "code",
      "source": [
        "np.isnan(x_train).any()"
      ],
      "metadata": {
        "colab": {
          "base_uri": "https://localhost:8080/"
        },
        "id": "K4cv85L-vRPP",
        "outputId": "2de3c684-6480-4d53-db90-ea0b47eaacbc"
      },
      "execution_count": 4,
      "outputs": [
        {
          "output_type": "execute_result",
          "data": {
            "text/plain": [
              "False"
            ]
          },
          "metadata": {},
          "execution_count": 4
        }
      ]
    },
    {
      "cell_type": "code",
      "source": [
        "np.isnan(x_test).any()"
      ],
      "metadata": {
        "colab": {
          "base_uri": "https://localhost:8080/"
        },
        "id": "I6aZ2aE3vbdG",
        "outputId": "90880025-dc25-4a45-b429-6f4174b3b5a2"
      },
      "execution_count": 5,
      "outputs": [
        {
          "output_type": "execute_result",
          "data": {
            "text/plain": [
              "False"
            ]
          },
          "metadata": {},
          "execution_count": 5
        }
      ]
    },
    {
      "cell_type": "markdown",
      "source": [
        "There are no NaN values in our dataset. There is no need to preprocess the data to deal with Nan's."
      ],
      "metadata": {
        "id": "DeN-CbgXvfKP"
      }
    },
    {
      "cell_type": "markdown",
      "source": [
        "**2.3 Normalization and Reshaping**\n",
        "\n",
        "Since the values in our x_train dataset are 28x28 images, our input shape must be specified so that our model will know what is being inputed.\n",
        "\n",
        "The first convolution layer expects a single 60000x28x28x1 tensor instead of 60000 28x28x1 tensors.\n",
        "\n",
        "Models generally run better on normalized values. The best way to normalize the data depends on each individual dataset. For the MNIST dataset, we want each value to be between 0.0 and 1.0. As all values originally fall under the 0.0-255.0 range, divide by 255.0.\n",
        "\n",
        "Run the following cell to define the input_shape and to normalize and reshape the data.\n"
      ],
      "metadata": {
        "id": "V6mcuLktvhU2"
      }
    },
    {
      "cell_type": "code",
      "source": [
        "input_shape = (28, 28, 1)\n",
        "\n",
        "x_train=x_train.reshape(x_train.shape[0], x_train.shape[1], x_train.shape[2], 1)\n",
        "x_train=x_train / 255.0\n",
        "x_test = x_test.reshape(x_test.shape[0], x_test.shape[1], x_test.shape[2], 1)\n",
        "x_test=x_test/255.0"
      ],
      "metadata": {
        "id": "Dpb-E6uBvmq1"
      },
      "execution_count": 6,
      "outputs": []
    },
    {
      "cell_type": "markdown",
      "source": [
        "**2.4 Label Encoding**\n",
        "\n",
        "The labels for the training and the testing dataset are currently categorical and is not continuous. To include categorical dataset in our model, our labels should be converted to one-hot encodings.\n",
        "\n",
        "For example, 2 becomes [0,0,1,0,0,0,0,0,0,0] and 7 becomes [0,0,0,0,0,0,0,1,0,0].\n",
        "\n",
        "Run the following cell to transform the labels into one-hot encodings"
      ],
      "metadata": {
        "id": "q163HaqOvp5v"
      }
    },
    {
      "cell_type": "code",
      "source": [
        "y_train = tf.one_hot(y_train.astype(np.int32), depth=10)\n",
        "y_test = tf.one_hot(y_test.astype(np.int32), depth=10)"
      ],
      "metadata": {
        "id": "Z8r--8S6vuom"
      },
      "execution_count": 7,
      "outputs": []
    },
    {
      "cell_type": "markdown",
      "source": [
        "**2.5 Visualize Data**\n",
        "\n",
        "Run the following cell to visualize an image in our dataset"
      ],
      "metadata": {
        "id": "tGYtbykcvxbO"
      }
    },
    {
      "cell_type": "code",
      "source": [
        "plt.imshow(x_train[100][:,:,0])\n",
        "print(y_train[100])"
      ],
      "metadata": {
        "colab": {
          "base_uri": "https://localhost:8080/",
          "height": 282
        },
        "id": "8JgQXx5Ov01n",
        "outputId": "5e4b641e-78be-4d53-eea6-ba71b8c26fa0"
      },
      "execution_count": 8,
      "outputs": [
        {
          "output_type": "stream",
          "name": "stdout",
          "text": [
            "tf.Tensor([0. 0. 0. 0. 0. 1. 0. 0. 0. 0.], shape=(10,), dtype=float32)\n"
          ]
        },
        {
          "output_type": "display_data",
          "data": {
            "text/plain": [
              "<Figure size 432x288 with 1 Axes>"
            ],
            "image/png": "[encoded data removed]"
          },
          "metadata": {
            "needs_background": "light"
          }
        }
      ]
    },
    {
      "cell_type": "markdown",
      "source": [
        "The image is an image of a handwritten 5. The one-hot encoding holds the value of 5."
      ],
      "metadata": {
        "id": "Oi4YugFXv5nv"
      }
    },
    {
      "cell_type": "markdown",
      "source": [
        "**3. CNN**\n",
        "\n",
        "In this module, we will build our CNN model.\n",
        "\n",
        "**3.1 Define the Model**\n",
        "\n",
        "Run the following cell to define batch_size, num_classes, and epochs. Try changing the values and test how different values affect the accuracy of the CNN model.\n",
        "\n",
        "\n"
      ],
      "metadata": {
        "id": "o-OUWUbJ1TWo"
      }
    },
    {
      "cell_type": "code",
      "source": [
        "batch_size = 64\n",
        "num_classes = 10\n",
        "epochs = 5\n"
      ],
      "metadata": {
        "id": "3yevACgK1UXB"
      },
      "execution_count": 9,
      "outputs": []
    },
    {
      "cell_type": "markdown",
      "source": [
        "Run the following cell to build the model. The model contains various layers stacked on top of each other. The output of one layer feeds into the input of the next layer.\n",
        "\n",
        "Conv2D layers are convolutions. Each filter (32 in the first two convolution layers and 64 in the next two convolution layers) transforms a part of the image (5x5 for the first two Conv2D layers and 3x3 for the next two Conv2D layers). The transformation is applied on the whole image.\n",
        "\n",
        "MaxPool2D is a downsampling filter. It reduces a 2x2 matrix of the image to a single pixel with the maximum value of the 2x2 matrix. The filter aims to conserve the main features of the image while reducing the size.\n",
        "\n",
        "Dropout is a regularization layer. In our model, 25% of the nodes in the layer are randomly ignores, allowing the network to learn different features. This prevents overfitting.\n",
        "\n",
        "relu is the rectifier, and it is used to find nonlinearity in the data. It works by returning the input value if the input value >= 0. If the input is negative, it returns 0.\n",
        "\n",
        "Flatten converts the tensors into a 1D vector.\n",
        "\n",
        "The Dense layers are an artificial neural network (ANN). The last layer returns the probability that an image is in each class (one for each digit).\n",
        "\n",
        "As this model aims to categorize the images, we will use a categorical_crossentropy loss function."
      ],
      "metadata": {
        "id": "HPUg41bR1eZg"
      }
    },
    {
      "cell_type": "code",
      "source": [
        "model = tf.keras.models.Sequential([\n",
        "    tf.keras.layers.Conv2D(32, (5,5), padding='same', activation='relu', input_shape=input_shape),\n",
        "    tf.keras.layers.Conv2D(32, (5,5), padding='same', activation='relu'),\n",
        "    tf.keras.layers.MaxPool2D(),\n",
        "    tf.keras.layers.Dropout(0.25),\n",
        "    tf.keras.layers.Conv2D(64, (3,3), padding='same', activation='relu'),\n",
        "    tf.keras.layers.Conv2D(64, (3,3), padding='same', activation='relu'),\n",
        "    tf.keras.layers.MaxPool2D(strides=(2,2)),\n",
        "    tf.keras.layers.Dropout(0.25),\n",
        "    tf.keras.layers.Flatten(),\n",
        "    tf.keras.layers.Dense(128, activation='relu'),\n",
        "    tf.keras.layers.Dropout(0.5),\n",
        "    tf.keras.layers.Dense(num_classes, activation='softmax')\n",
        "])\n",
        "\n",
        "model.compile(optimizer=tf.keras.optimizers.RMSprop(epsilon=1e-08), loss='categorical_crossentropy', metrics=['acc'])"
      ],
      "metadata": {
        "id": "NKL1sRxw1iTI"
      },
      "execution_count": 10,
      "outputs": []
    },
    {
      "cell_type": "markdown",
      "source": [
        "**3.2 Fit the Training Data**\n",
        "\n",
        "The next step is to fit our training data. If we achieve a certain level of accuracy, it may not be necessary to continue training the model, especially if time and resources are limited.\n",
        "\n",
        "The following cell defines a CallBack so that if 99.5% accuracy is achieved, the model stops training. The model is not likely to stop prematurely if only 5 epochs are specified. Try it out with more epochs."
      ],
      "metadata": {
        "id": "N4mG77Ss1lw4"
      }
    },
    {
      "cell_type": "code",
      "source": [
        "class myCallback(tf.keras.callbacks.Callback):\n",
        "  def on_epoch_end(self, epoch, logs={}):\n",
        "    if(logs.get('acc')>0.995):\n",
        "      print(\"\\nReached 99.5% accuracy so cancelling training!\")\n",
        "      self.model.stop_training = True\n",
        "\n",
        "callbacks = myCallback()"
      ],
      "metadata": {
        "id": "-eiEaztX1qYZ"
      },
      "execution_count": 11,
      "outputs": []
    },
    {
      "cell_type": "markdown",
      "source": [
        "Testing the model on a validation dataset prevents overfitting of the data. We specified a 10% validation and 90% training split"
      ],
      "metadata": {
        "id": "7NayIt7y1uMo"
      }
    },
    {
      "cell_type": "code",
      "source": [
        "history = model.fit(x_train, y_train,\n",
        "                    batch_size=batch_size,\n",
        "                    epochs=epochs,\n",
        "                    validation_split=0.1,\n",
        "                    callbacks=[callbacks])"
      ],
      "metadata": {
        "colab": {
          "base_uri": "https://localhost:8080/"
        },
        "id": "VT1SdwRm1vEA",
        "outputId": "80832688-bc2d-4705-f78e-158a2f25c5ac"
      },
      "execution_count": 12,
      "outputs": [
        {
          "output_type": "stream",
          "name": "stdout",
          "text": [
            "Epoch 1/5\n",
            "844/844 [==============================] - 414s 489ms/step - loss: 0.2141 - acc: 0.9328 - val_loss: 0.0345 - val_acc: 0.9903\n",
            "Epoch 2/5\n",
            "844/844 [==============================] - 412s 489ms/step - loss: 0.0708 - acc: 0.9788 - val_loss: 0.0409 - val_acc: 0.9888\n",
            "Epoch 3/5\n",
            "844/844 [==============================] - 409s 484ms/step - loss: 0.0564 - acc: 0.9835 - val_loss: 0.0318 - val_acc: 0.9912\n",
            "Epoch 4/5\n",
            "844/844 [==============================] - 412s 489ms/step - loss: 0.0495 - acc: 0.9855 - val_loss: 0.0298 - val_acc: 0.9925\n",
            "Epoch 5/5\n",
            "844/844 [==============================] - 409s 485ms/step - loss: 0.0458 - acc: 0.9868 - val_loss: 0.0271 - val_acc: 0.9935\n"
          ]
        }
      ]
    },
    {
      "cell_type": "markdown",
      "source": [
        "**4. Evaluate the Model**\n",
        "\n",
        " **4.1 Loss and Accuracy Curves**\n",
        "\n",
        "Run the following cell to evaluate the loss and accuracy of our model."
      ],
      "metadata": {
        "id": "-UVuhzYW-byR"
      }
    },
    {
      "cell_type": "code",
      "source": [
        "fig, ax = plt.subplots(2,1)\n",
        "ax[0].plot(history.history['loss'], color='b', label=\"Training Loss\")\n",
        "ax[0].plot(history.history['val_loss'], color='r', label=\"Validation Loss\",axes =ax[0])\n",
        "legend = ax[0].legend(loc='best', shadow=True)\n",
        "\n",
        "ax[1].plot(history.history['acc'], color='b', label=\"Training Accuracy\")\n",
        "ax[1].plot(history.history['val_acc'], color='r',label=\"Validation Accuracy\")\n",
        "legend = ax[1].legend(loc='best', shadow=True)"
      ],
      "metadata": {
        "colab": {
          "base_uri": "https://localhost:8080/",
          "height": 265
        },
        "id": "qu7g5jtC-fqJ",
        "outputId": "e1915aea-b674-4223-fcd1-59e3daf658c2"
      },
      "execution_count": 13,
      "outputs": [
        {
          "output_type": "display_data",
          "data": {
            "text/plain": [
              "<Figure size 432x288 with 2 Axes>"
            ],
            "image/png": "[encoded data removed]"
          },
          "metadata": {
            "needs_background": "light"
          }
        }
      ]
    },
    {
      "cell_type": "markdown",
      "source": [
        "The accuracy increases over time and the loss decreases over time. However, the accuracy of our validation set seems to slightly decrease towards the end even thought our training accuracy increased. Running the model for more epochs might cause our model to be susceptible to overfitting."
      ],
      "metadata": {
        "id": "erkWQ9xm-jc4"
      }
    },
    {
      "cell_type": "markdown",
      "source": [
        "4.2 Prediction"
      ],
      "metadata": {
        "id": "VLM6FiPB-kiZ"
      }
    },
    {
      "cell_type": "code",
      "source": [
        "test_loss, test_acc = model.evaluate(x_test, y_test)"
      ],
      "metadata": {
        "colab": {
          "base_uri": "https://localhost:8080/"
        },
        "id": "iSNx3iMu-n7B",
        "outputId": "5e54cffa-521d-4ca1-b7fe-ba5bb0ff2309"
      },
      "execution_count": 14,
      "outputs": [
        {
          "output_type": "stream",
          "name": "stdout",
          "text": [
            "313/313 [==============================] - 18s 57ms/step - loss: 0.0232 - acc: 0.9927\n"
          ]
        }
      ]
    },
    {
      "cell_type": "markdown",
      "source": [
        "Our model runs pretty well, with an accuracy of 99.3% on our testing data."
      ],
      "metadata": {
        "id": "MHTny3FC-yYa"
      }
    },
    {
      "cell_type": "markdown",
      "source": [
        "**4.3 Confusion Matrix**\n",
        "\n",
        "Run the following cell to compute our confusion matrix using TensorFlo"
      ],
      "metadata": {
        "id": "ratF7-Pv-0RJ"
      }
    },
    {
      "cell_type": "code",
      "source": [
        "# Predict the values from the testing dataset\n",
        "Y_pred = model.predict(x_test)\n",
        "# Convert predictions classes to one hot vectors \n",
        "Y_pred_classes = np.argmax(Y_pred,axis = 1) \n",
        "# Convert testing observations to one hot vectors\n",
        "Y_true = np.argmax(y_test,axis = 1)\n",
        "# compute the confusion matrix\n",
        "confusion_mtx = tf.math.confusion_matrix(Y_true, Y_pred_classes) "
      ],
      "metadata": {
        "colab": {
          "base_uri": "https://localhost:8080/"
        },
        "id": "ZzIE2t2X-xeA",
        "outputId": "ac294a26-30e1-4bf5-c367-4355fcd087d0"
      },
      "execution_count": 15,
      "outputs": [
        {
          "output_type": "stream",
          "name": "stdout",
          "text": [
            "313/313 [==============================] - 18s 58ms/step\n"
          ]
        }
      ]
    },
    {
      "cell_type": "markdown",
      "source": [
        "Run the following cell to plot the confusion matrix."
      ],
      "metadata": {
        "id": "9drEoLlu-_vJ"
      }
    },
    {
      "cell_type": "code",
      "source": [
        "plt.figure(figsize=(10, 8))\n",
        "sns.heatmap(confusion_mtx, annot=True, fmt='g')"
      ],
      "metadata": {
        "colab": {
          "base_uri": "https://localhost:8080/",
          "height": 500
        },
        "id": "rmRpy5py_AWq",
        "outputId": "ad361891-df65-4d38-9602-1e1e2d3f2f2a"
      },
      "execution_count": 16,
      "outputs": [
        {
          "output_type": "execute_result",
          "data": {
            "text/plain": [
              "<matplotlib.axes._subplots.AxesSubplot at 0x7fcbc2d23450>"
            ]
          },
          "metadata": {},
          "execution_count": 16
        },
        {
          "output_type": "display_data",
          "data": {
            "text/plain": [
              "<Figure size 720x576 with 2 Axes>"
            ],
            "image/png": "[encoded data removed]"
          },
          "metadata": {
            "needs_background": "light"
          }
        }
      ]
    },
    {
      "cell_type": "markdown",
      "source": [
        "There seems to be a slightly higher confusion between (0,6) and (4,9). This is reasonable as 0's and 6's look similar with their loops and 4's and 9's can be mistaken when the 4's are more rounded and 9's are more angular."
      ],
      "metadata": {
        "id": "TmjfU5JW_E6h"
      }
    }
  ]
}